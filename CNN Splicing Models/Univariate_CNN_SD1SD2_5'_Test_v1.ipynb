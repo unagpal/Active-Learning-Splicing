{
 "cells": [
  {
   "cell_type": "code",
   "execution_count": 1,
   "metadata": {},
   "outputs": [
    {
     "name": "stderr",
     "output_type": "stream",
     "text": [
      "Using TensorFlow backend.\n"
     ]
    }
   ],
   "source": [
    "# Imports and functions\n",
    "%matplotlib inline\n",
    "from matplotlib.colors import LogNorm\n",
    "from sklearn.model_selection import KFold\n",
    "import matplotlib.pyplot as plt\n",
    "from keras.layers import Dense, Conv1D, Conv2D, MaxPooling1D, MaxPooling2D,Input, Flatten\n",
    "from keras import models\n",
    "from keras import optimizers\n",
    "import numpy as np\n",
    "from sklearn.metrics import r2_score\n",
    "from sklearn.model_selection import train_test_split\n",
    "nuc_arr = ['A','C','G','T']\n",
    "#Function for calculating modified probability of splicing at SD1\n",
    "def prob_SD1 (sd1_freq, sd2_freq): \n",
    "    if (sd1_freq==0 and sd2_freq==0):\n",
    "        return 0.0 \n",
    "    else:\n",
    "        return sd1_freq/(sd1_freq+sd2_freq)\n",
    "#Function converting nucleotide sequence to numerical array with 4 channels\n",
    "def seq_to_arr (seq):\n",
    "    seq_len = len(seq)\n",
    "    arr_rep = np.zeros((seq_len, len(nuc_arr))) \n",
    "    for i in range(seq_len):\n",
    "        arr_rep[i][nuc_arr.index(seq[i])] = 1 \n",
    "    return arr_rep"
   ]
  },
  {
   "cell_type": "code",
   "execution_count": 3,
   "metadata": {
    "collapsed": true
   },
   "outputs": [],
   "source": [
    "#Creating a modified dataset with only the necessary information\n",
    "#Storing model inputs and outputs\n",
    "reads_path = 'GSM1911086_A5SS_spliced_reads.txt'\n",
    "seq_path = 'GSM1911085_A5SS_seq.txt'\n",
    "s1_indx = 1\n",
    "s2_indx= 45\n",
    "seq_len = 101\n",
    "read_lines = []\n",
    "seq_lines = []\n",
    "data_table = []\n",
    "with open(reads_path) as f:\n",
    "    f.readline() \n",
    "    for line in f:\n",
    "        mod_line = line.split('\\t')\n",
    "        read_lines.append([mod_line[0], mod_line[s1_indx], mod_line[s2_indx]])\n",
    "with open(seq_path) as f:\n",
    "    f.readline() \n",
    "    for line in f:\n",
    "        mod_line = line.split('\\t') \n",
    "        seq_lines.append([mod_line[0], mod_line[1][:-1]])\n",
    "        \n",
    "n = len(read_lines)\n",
    "prob_s1 = np.zeros(n)\n",
    "inputs = np.zeros((n,seq_len, 4))\n",
    "\n",
    "with open('5SS_compressed.txt', 'w') as f: \n",
    "    for i in range(n):\n",
    "        data_table.append([read_lines[i][0], seq_lines[i][1], read_lines[i][1], read_lines[i][2]])\n",
    "        f.write(read_lines[i][0]+'\\t'+seq_lines[i][1]+'\\t'+read_lines[i][1]+ '\\t'+read_lines[i][2] + '\\n')\n",
    "        prob_s1[i] = prob_SD1(float(read_lines[i][1]), float(read_lines[i][2]))\n",
    "        inputs[i] = seq_to_arr(seq_lines[i][1])"
   ]
  },
  {
   "cell_type": "code",
   "execution_count": 7,
   "metadata": {},
   "outputs": [
    {
     "name": "stdout",
     "output_type": "stream",
     "text": [
      "Epoch 1/5\n",
      "238623/238623 [==============================] - 40s 169us/step - loss: 0.0549\n",
      "Epoch 2/5\n",
      "238623/238623 [==============================] - 39s 163us/step - loss: 0.0465\n",
      "Epoch 3/5\n",
      "238623/238623 [==============================] - 38s 160us/step - loss: 0.0429\n",
      "Epoch 4/5\n",
      "238623/238623 [==============================] - 38s 161us/step - loss: 0.0414\n",
      "Epoch 5/5\n",
      "238623/238623 [==============================] - 40s 166us/step - loss: 0.0405\n",
      "Model 1 r2 on Testing Data:\n",
      "0.7109766605606966\n"
     ]
    }
   ],
   "source": [
    "#Creating, training, and testing model_1 (1D), which achieves r2 around 0.71 on test data\n",
    "#Architecture 1: Input -> Conv -> Pool -> Conv -> Pool -> FC -> FC\n",
    "model_1 = models.Sequential([\n",
    "    Conv1D(seq_len,(4), strides=1, input_shape=(seq_len,len(nuc_arr)), activation='relu'),\n",
    "    MaxPooling1D(pool_size=3),\n",
    "    Conv1D(seq_len//2, (4), strides=1, activation='relu'),\n",
    "    MaxPooling1D(pool_size=3),\n",
    "    Flatten(),\n",
    "    Dense(50, activation='relu'),\n",
    "    Dense(1)\n",
    "])\n",
    "#Compiling and training\n",
    "model_1.compile(optimizer=optimizers.Adam(lr=0.001), loss='mean_squared_error')\n",
    "X_train_1, X_test_1, y_train_1, y_test_1 = train_test_split(inputs, prob_s1,test_size=0.1, random_state=40) \n",
    "model_1.fit(x=X_train_1, y=y_train_1, epochs=5) \n",
    "#Testing\n",
    "y_pred_1 = model_1.predict(X_test_1) \n",
    "print(\"Model 1 r2 on Testing Data:\") \n",
    "print(r2_score(y_test_1, y_pred_1))"
   ]
  },
  {
   "cell_type": "code",
   "execution_count": 8,
   "metadata": {},
   "outputs": [
    {
     "name": "stdout",
     "output_type": "stream",
     "text": [
      "Epoch 1/5\n",
      "238623/238623 [==============================] - 62s 260us/step - loss: 0.0513\n",
      "Epoch 2/5\n",
      "238623/238623 [==============================] - 62s 261us/step - loss: 0.0421\n",
      "Epoch 3/5\n",
      "238623/238623 [==============================] - 60s 251us/step - loss: 0.0401\n",
      "Epoch 4/5\n",
      "238623/238623 [==============================] - 61s 255us/step - loss: 0.0387\n",
      "Epoch 5/5\n",
      "238623/238623 [==============================] - 62s 261us/step - loss: 0.0379\n",
      "Model 2 r2 on Testing Data:\n",
      "0.7216969017557868\n"
     ]
    }
   ],
   "source": [
    "#Creating, training, and testing model_2, a slightly deeper network (1D); achieves r2 around 0.72 on test data\n",
    "#Architecture 2: Input -> Conv -> Conv -> Pool -> Conv -> Conv -> Pool -> FC -> FC\n",
    "model_2 = models.Sequential([\n",
    "    Conv1D(seq_len,(4), input_shape=(seq_len,len(nuc_arr)), activation='relu'),\n",
    "    Conv1D(seq_len,(4), input_shape=(seq_len,len(nuc_arr)), activation='relu'),\n",
    "    MaxPooling1D(pool_size=5),\n",
    "    Conv1D(seq_len//2,(4), input_shape=(seq_len,len(nuc_arr)), activation='relu'),\n",
    "    Conv1D(seq_len//2,(4), input_shape=(seq_len,len(nuc_arr)), activation='relu'),\n",
    "    MaxPooling1D(pool_size=5),\n",
    "    Flatten(),\n",
    "    Dense(40, activation='relu'),\n",
    "    Dense(1)\n",
    "])\n",
    "#Compiling and training\n",
    "model_2.compile(optimizer=optimizers.Adam(lr=0.001), loss='mean_squared_error')\n",
    "X_train_2, X_test_2, y_train_2, y_test_2 = train_test_split(inputs, prob_s1,test_size=0.1, random_state=40) \n",
    "model_2.fit(x=X_train_2, y=y_train_2, epochs=5) \n",
    "#Testing\n",
    "y_pred_2 = model_2.predict(X_test_2) \n",
    "print(\"Model 2 r2 on Testing Data:\") \n",
    "print(r2_score(y_test_2, y_pred_2))"
   ]
  },
  {
   "cell_type": "code",
   "execution_count": 9,
   "metadata": {},
   "outputs": [
    {
     "data": {
      "image/png": "[encoded data removed]",
      "text/plain": [
       "<Figure size 600x400 with 2 Axes>"
      ]
     },
     "metadata": {},
     "output_type": "display_data"
    },
    {
     "data": {
      "image/png": "[encoded data removed]",
      "text/plain": [
       "<Figure size 600x400 with 2 Axes>"
      ]
     },
     "metadata": {},
     "output_type": "display_data"
    }
   ],
   "source": [
    "def graph_predictions(prob, pred_prob, mod_name):\n",
    "    plt.hist2d(pred_prob, prob, bins = 50, norm=LogNorm())\n",
    "    plt.colorbar()\n",
    "    plt.title('True vs. Predicted Relative Probability of Splicing at SD1 for '+ mod_name)\n",
    "    plt.xlabel('Predicted Relative Probability of Splicing at SD1')\n",
    "    plt.ylabel('Relative Probability of Splicing at SD1')\n",
    "    plt.show()\n",
    "graph_predictions(np.array(y_test_1).flatten(), np.array(y_pred_1).flatten(), 'Model 1')\n",
    "graph_predictions(np.array(y_test_2).flatten(), np.array(y_pred_2).flatten(), 'Model 2')"
   ]
  },
  {
   "cell_type": "code",
   "execution_count": 15,
   "metadata": {},
   "outputs": [
    {
     "name": "stdout",
     "output_type": "stream",
     "text": [
      "All 10 Individual Accuracies: [0.7116553961798876, 0.7183874317313519, 0.728985841137145, 0.7340356728434496, 0.7378579049489997, 0.7308530071474002, 0.7507839120302571, 0.7332371448545114, 0.7557610533025598, 0.7553410974480715]\n",
      "Model 1 Average r2 10-fold CV: 0.7356898461623633\n"
     ]
    }
   ],
   "source": [
    "#10-fold Cross Validation for Model 1\n",
    "#Architecture 1: Input -> Conv -> Pool -> Conv -> Pool -> FC -> FC\n",
    "\n",
    "kf = KFold(n_splits=10, shuffle=True)\n",
    "X = inputs\n",
    "kf.get_n_splits(X)\n",
    "y = prob_s1\n",
    "#10-fold cross validation loop\n",
    "loop_number = 0\n",
    "all_accuracies = []\n",
    "for train_index, test_index in kf.split(X):\n",
    "    loop_number += 1\n",
    "    X_train, X_test = X[train_index], X[test_index]\n",
    "    y_train, y_test = y[train_index], y[test_index]\n",
    "    model_1.fit(x=X_train, y=y_train, epochs=5) \n",
    "    #Testing\n",
    "    y_pred = model_1.predict(X_test) \n",
    "    #print(\"Model 1 r2 on Testing Data, Fold \" + str(loop_number) + \":\") \n",
    "    all_accuracies.append(r2_score(y_test, y_pred))\n",
    "    #print(all_accuracies[loop_number-1])\n",
    "\n",
    "all_accuracies = [0.7116553961798876,0.7183874317313519,0.728985841137145,0.7340356728434496,0.7378579049489997,0.7308530071474002,\n",
    "                 0.7507839120302571,0.7332371448545114,0.7557610533025598,0.7553410974480715]\n",
    "print(\"All 10 Individual Accuracies: \" + str(all_accuracies))\n",
    "print(\"Model 1 Average r2 10-fold CV: \" + str(sum(all_accuracies)/len(all_accuracies)))"
   ]
  },
  {
   "cell_type": "code",
   "execution_count": 16,
   "metadata": {},
   "outputs": [
    {
     "name": "stdout",
     "output_type": "stream",
     "text": [
      "Performing fold number 1\n",
      "Epoch 1/5\n",
      "238623/238623 [==============================] - 70s 295us/step - loss: 0.0522\n",
      "Epoch 2/5\n",
      "238623/238623 [==============================] - 69s 289us/step - loss: 0.0424\n",
      "Epoch 3/5\n",
      "238623/238623 [==============================] - 69s 287us/step - loss: 0.0400\n",
      "Epoch 4/5\n",
      "238623/238623 [==============================] - 68s 287us/step - loss: 0.0388\n",
      "Epoch 5/5\n",
      "238623/238623 [==============================] - 68s 286us/step - loss: 0.0379\n",
      "Performing fold number 2\n",
      "Epoch 1/5\n",
      "238623/238623 [==============================] - 69s 290us/step - loss: 0.0374\n",
      "Epoch 2/5\n",
      "238623/238623 [==============================] - 68s 287us/step - loss: 0.0367\n",
      "Epoch 3/5\n",
      "238623/238623 [==============================] - 68s 285us/step - loss: 0.0362\n",
      "Epoch 4/5\n",
      "238623/238623 [==============================] - 68s 286us/step - loss: 0.0356\n",
      "Epoch 5/5\n",
      "238623/238623 [==============================] - 70s 291us/step - loss: 0.0352\n",
      "Performing fold number 3\n",
      "Epoch 1/5\n",
      "238623/238623 [==============================] - 69s 288us/step - loss: 0.0351\n",
      "Epoch 2/5\n",
      "238623/238623 [==============================] - 68s 283us/step - loss: 0.0348\n",
      "Epoch 3/5\n",
      "238623/238623 [==============================] - 68s 286us/step - loss: 0.0343\n",
      "Epoch 4/5\n",
      "238623/238623 [==============================] - 68s 286us/step - loss: 0.0340\n",
      "Epoch 5/5\n",
      "238623/238623 [==============================] - 70s 292us/step - loss: 0.0336\n",
      "Performing fold number 4\n",
      "Epoch 1/5\n",
      "238623/238623 [==============================] - 68s 284us/step - loss: 0.0337\n",
      "Epoch 2/5\n",
      "238623/238623 [==============================] - 68s 286us/step - loss: 0.0334\n",
      "Epoch 3/5\n",
      "238623/238623 [==============================] - 67s 283us/step - loss: 0.0330\n",
      "Epoch 4/5\n",
      "238623/238623 [==============================] - 69s 291us/step - loss: 0.0327\n",
      "Epoch 5/5\n",
      "238623/238623 [==============================] - 68s 285us/step - loss: 0.0324\n",
      "Performing fold number 5\n",
      "Epoch 1/5\n",
      "238623/238623 [==============================] - 68s 285us/step - loss: 0.0325\n",
      "Epoch 2/5\n",
      "238623/238623 [==============================] - 68s 283us/step - loss: 0.0321\n",
      "Epoch 3/5\n",
      "238623/238623 [==============================] - 68s 285us/step - loss: 0.0318\n",
      "Epoch 4/5\n",
      "238623/238623 [==============================] - 70s 292us/step - loss: 0.0315\n",
      "Epoch 5/5\n",
      "238623/238623 [==============================] - 68s 285us/step - loss: 0.0313\n",
      "Performing fold number 6\n",
      "Epoch 1/5\n",
      "238623/238623 [==============================] - 67s 282us/step - loss: 0.0316\n",
      "Epoch 2/5\n",
      "238623/238623 [==============================] - 68s 284us/step - loss: 0.0312\n",
      "Epoch 3/5\n",
      "238623/238623 [==============================] - 68s 287us/step - loss: 0.0309\n",
      "Epoch 4/5\n",
      "238623/238623 [==============================] - 68s 285us/step - loss: 0.0306\n",
      "Epoch 5/5\n",
      "238623/238623 [==============================] - 68s 286us/step - loss: 0.0304\n",
      "Performing fold number 7\n",
      "Epoch 1/5\n",
      "238623/238623 [==============================] - 68s 284us/step - loss: 0.0307\n",
      "Epoch 2/5\n",
      "238623/238623 [==============================] - 67s 283us/step - loss: 0.0304\n",
      "Epoch 3/5\n",
      "238623/238623 [==============================] - 69s 287us/step - loss: 0.0302\n",
      "Epoch 4/5\n",
      "238623/238623 [==============================] - 68s 283us/step - loss: 0.0299\n",
      "Epoch 5/5\n",
      "238623/238623 [==============================] - 68s 284us/step - loss: 0.0297\n",
      "Performing fold number 8\n",
      "Epoch 1/5\n",
      "238624/238624 [==============================] - 67s 282us/step - loss: 0.0299\n",
      "Epoch 2/5\n",
      "238624/238624 [==============================] - 69s 288us/step - loss: 0.0295\n",
      "Epoch 3/5\n",
      "238624/238624 [==============================] - 68s 284us/step - loss: 0.0293\n",
      "Epoch 4/5\n",
      "238624/238624 [==============================] - 68s 283us/step - loss: 0.0291\n",
      "Epoch 5/5\n",
      "238624/238624 [==============================] - 68s 283us/step - loss: 0.0289\n",
      "Performing fold number 9\n",
      "Epoch 1/5\n",
      "238624/238624 [==============================] - 68s 284us/step - loss: 0.0292\n",
      "Epoch 2/5\n",
      "238624/238624 [==============================] - 69s 291us/step - loss: 0.0289\n",
      "Epoch 3/5\n",
      "238624/238624 [==============================] - 68s 283us/step - loss: 0.0287\n",
      "Epoch 4/5\n",
      "238624/238624 [==============================] - 67s 282us/step - loss: 0.0286\n",
      "Epoch 5/5\n",
      "238624/238624 [==============================] - 67s 281us/step - loss: 0.0285\n",
      "Performing fold number 10\n",
      "Epoch 1/5\n",
      "238624/238624 [==============================] - 69s 287us/step - loss: 0.0289\n",
      "Epoch 2/5\n",
      "238624/238624 [==============================] - 68s 284us/step - loss: 0.0286\n",
      "Epoch 3/5\n",
      "238624/238624 [==============================] - 67s 281us/step - loss: 0.0285\n",
      "Epoch 4/5\n",
      "238624/238624 [==============================] - 67s 281us/step - loss: 0.0284\n",
      "Epoch 5/5\n",
      "238624/238624 [==============================] - 68s 283us/step - loss: 0.0281\n",
      "All 10 Individual Accuracies: [0.717738476753309, 0.7347119854397953, 0.7470585978809319, 0.7508289924288618, 0.7632609189790979, 0.7690140425368641, 0.7676285833929709, 0.7801862386807596, 0.7727016809711994, 0.7870467700380788]\n",
      "Model 2 Average r2 10-fold CV: 0.7590176287101869\n"
     ]
    }
   ],
   "source": [
    "#10-fold Cross Validation for Model 2\n",
    "#Architecture 2: Input -> Conv -> Conv -> Pool -> Conv -> Conv -> Pool -> FC -> FC\n",
    "\n",
    "#10-fold cross validation loop\n",
    "loop_number = 0\n",
    "all_accuracies = []\n",
    "for train_index, test_index in kf.split(X):\n",
    "    loop_number += 1\n",
    "    print(\"Performing fold number \" + str(loop_number))\n",
    "    X_train, X_test = X[train_index], X[test_index]\n",
    "    y_train, y_test = y[train_index], y[test_index]\n",
    "    model_2.fit(x=X_train, y=y_train, epochs=5) \n",
    "    #Testing\n",
    "    y_pred_2 = model_2.predict(X_test) \n",
    "    all_accuracies.append(r2_score(y_test, y_pred_2))\n",
    "\n",
    "print(\"All 10 Individual Accuracies: \" + str(all_accuracies))\n",
    "print(\"Model 2 Average r2 10-fold CV: \" + str(sum(all_accuracies)/len(all_accuracies)))"
   ]
  },
  {
   "cell_type": "code",
   "execution_count": null,
   "metadata": {
    "collapsed": true
   },
   "outputs": [],
   "source": []
  }
 ],
 "metadata": {
  "kernelspec": {
   "display_name": "Python 3",
   "language": "python",
   "name": "python3"
  },
  "language_info": {
   "codemirror_mode": {
    "name": "ipython",
    "version": 3
   },
   "file_extension": ".py",
   "mimetype": "text/x-python",
   "name": "python",
   "nbconvert_exporter": "python",
   "pygments_lexer": "ipython3",
   "version": "3.7.1"
  }
 },
 "nbformat": 4,
 "nbformat_minor": 1
}
